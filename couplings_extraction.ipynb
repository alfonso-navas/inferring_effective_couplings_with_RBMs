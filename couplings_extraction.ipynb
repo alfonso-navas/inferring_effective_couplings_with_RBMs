{
 "cells": [
  {
   "cell_type": "markdown",
   "metadata": {},
   "source": [
    "# From the RBM to the Generalized Ising Model\n",
    "\n",
    "\n",
    "## Introduction\n",
    "\n",
    "Let us start from the energy function of a trained Restricted Boltzmann Machine (RBM):\n",
    "\n",
    "$$\n",
    " \\mathcal{H}(\\boldsymbol{v}, \\boldsymbol{h}) = - \\sum_{i=1}^{N_h} c_i h_i  - \\sum_{j=1}^{N_v} b_j v_j - \\sum_{j=1}^{N_v} \\sum_{i=1}^{N_h}  h_i W_{ij} v_j , \\tag{1}\n",
    "$$\n",
    "\n",
    "with binary variables $v_j, h_i \\in \\{0, 1 \\}$. By applying a change of variables and then marginalizing over the hidden nodes, one can obtain an expression for the energy solely dependent upon the visible nodes $s_j \\in \\{ -1, 1 \\}$:\n",
    "\n",
    "$$\n",
    "\\begin{align}\n",
    "\\mathcal{H}(\\boldsymbol{\\sigma}) \n",
    "&= - \\sum_j \\left( b_j + \\frac{1}{2} \\sum_i W_{ij} \\right) \\sigma_j - \\sum_i \\ln \\cosh \\left[ \\frac{1}{4} \\sum_j W_{ij} \\sigma_j + \\frac{1}{2} \\left( c_i + \\frac{1}{2} \\sum_j W_{ij} \\right) \\right] \\\\ \n",
    "&= - \\sum_j \\eta_j \\sigma_j - \\sum_i \\ln \\cosh \\left( \\sum_j w_{ij} \\sigma_j + \\theta_i \\right), \\tag{2}\n",
    "\\end{align}\n",
    "$$\n",
    "\n",
    "where the following variables were defined\n",
    "\n",
    "$$\n",
    "\\eta_j \\equiv \\frac{1}{2} \\left( b_j + \\frac{1}{2} \\sum_i W_{ij} \\right), \\ \\theta_i \\equiv \\frac{1}{2} \\left( c_i + \\frac{1}{2} \\sum_j W_{ij} \\right), \\ w_{ij} \\equiv \\frac{1}{4} W_{ij}. \\tag{3}\n",
    "$$\n",
    "\n",
    "It can be we showed that the effective Hamiltonian given in the Eq. $(2)$ can be expanded as a generalized Ising Hamiltonian of the form\n",
    " \n",
    "$$ \\begin{align} \n",
    "\\mathcal{H}_{\\mathrm{GIM}}(\\boldsymbol{\\sigma}) \n",
    "&= - \\sum_j H_j \\sigma_j - \\sum_{j_1 > j_2} J^{(2)}_{j_1 j_2} \\sigma_{j_1} \\sigma_{j_2} - \\sum_{j_1 > j_2 > j_3} J_{j_1 j_2 j_3}^{(3)} \\sigma_{j_1} \\sigma_{j_2} \\sigma_{j_3} + \\dots \\nonumber + \\sum_{j_1 > \\cdots > j_k} J^{(n)}_{j_1,\\ldots,j_n}\\sigma_{j_1} \\cdots \\sigma_{j_n} + \\dots,\n",
    "\\tag{4}\n",
    "\\end{align}$$\n",
    " \n",
    "The exact derivation of the mapping beetween the RBM parameters $\\eta_j, \\theta_i, w_{ij}$ and the couplings $H_{j_1 \\dots j_n}$ is provided in [1]. Here, we will numerically implement the expressions provided in [1]."
   ]
  },
  {
   "cell_type": "code",
   "execution_count": 1,
   "metadata": {},
   "outputs": [],
   "source": [
    "#importing libraries\n",
    "import numpy as np\n",
    "import matplotlib.pyplot as plt\n",
    "import h5py\n",
    "\n",
    "# numerical methods\n",
    "from scipy.stats import norm\n",
    "from scipy.integrate import simps"
   ]
  },
  {
   "cell_type": "code",
   "execution_count": 2,
   "metadata": {},
   "outputs": [],
   "source": [
    "# use LaTeX fonts in the plot\n",
    "plt.rc('text', usetex=True)\n",
    "plt.rc('font', family='serif')"
   ]
  },
  {
   "cell_type": "markdown",
   "metadata": {},
   "source": [
    "## Loading the parameters of a saved RBM training\n",
    "\n",
    "First, we need the parameters of an RBM trained with samples from the Ising model. Since this notebook will be exclusively dedicated to the numerical implementation of the mapping provided in [1], we will not delve into the generation of Ising model samples or the training of the models, which are described in a general manner also in [1].\n",
    "\n",
    "In this context, we already have machines that have been trained with configurations of the the Ising model, which will serve as examples for introducing our methods. The files containing the parameters of these machines can be found in this repository in `./model/(...)`.\n",
    "\n",
    "In this case, we will use a model that was trained with samples of a 2D disordered Ising model (i.e., a Edwards-Anderson model) with $\\beta = 0.2$ and $L=7$. "
   ]
  },
  {
   "cell_type": "code",
   "execution_count": 3,
   "metadata": {},
   "outputs": [],
   "source": [
    "# For this first example let us use a machine that was trained with\n",
    "\n",
    "# reading the file\n",
    "f = h5py.File(f'./models/2D_EAmodel_β=0.2_L=7_M=10000_PCD-50_Nh=100_lr=0.1.h5','r')\n",
    "\n",
    "# setting the epoch we are going to look at\n",
    "ep = 5000\n",
    "\n",
    "# Initialize the variables\n",
    "W = np.array(f['W'+str(ep)]) # dim: Nh x Nv\n",
    "b = np.array(f['vbias'+str(ep)]) # dim: Nv\n",
    "c = np.array(f['hbias'+str(ep)]) # dim: Nh\n",
    "\n",
    "# change of variables\n",
    "w = 0.25*W # dim: Nh x Nv\n",
    "η = 0.5*b + w.sum(axis = 0) # dim: Nv\n",
    "θ = 0.5*c +  w.sum(axis = 1) # dim: Nh\n",
    "\n",
    "# closing the chanel file\n",
    "f.close()"
   ]
  },
  {
   "cell_type": "markdown",
   "metadata": {},
   "source": [
    "## Extracting field couplings"
   ]
  },
  {
   "cell_type": "markdown",
   "metadata": {},
   "source": [
    "The mapping for the external field terms $H_j$ are given by \n",
    "\n",
    "$$\n",
    "H_j = \\eta_j + \\frac{1}{2} \\sum_i \\mathbb{E}_{X_1^{(j)}} \\left[ \\ln \\frac{\\cosh \\left( \\theta_i + w_{ij} + X_i^{\\left( j_1 \\right)} \\right)}{\\cosh \\left( \\theta_i -w_{ij} + X_i^{\\left( j_1 \\right)} \\right)} \\right],  \\tag{5}\n",
    "$$\n",
    "where it is assumed that\n",
    "$\n",
    "X_i^{\\left( j_1 \\dots j_m \\right)} \\sim \\mathcal{N} \\left(0, \\sum_{j \\neq j_1 \\dots j_m} w_{ij}^2 \\right).\n",
    "$\n"
   ]
  },
  {
   "cell_type": "code",
   "execution_count": 7,
   "metadata": {},
   "outputs": [],
   "source": [
    "# Defining the functions\n",
    "\n",
    "def arg_func1(x, i, j, w, θ):\n",
    "    \"\"\"\n",
    "    A function to compute the argument of the average in the Eq. (5)\n",
    "    \"\"\"\n",
    "    return np.log(np.cosh(θ[i] + w[i,j] + x ) \n",
    "                  / np.cosh(θ[i] - w[i,j] + x) \n",
    "                 )\n",
    "\n",
    "def est_expect1(i, j, w, θ, α=15, Δx=0.1):\n",
    "    \"\"\"\n",
    "    For a given index i, it computes the average in the Eq. (5) using the simpson's rule.\n",
    "    \n",
    "    params:\n",
    "    - α: it sets the domain of the numerical integration to [-α, α]\n",
    "    - Δx: the step size of the numerical integration\n",
    "    \"\"\"\n",
    "    \n",
    "    # setting the domain of the numerical integral\n",
    "    n_steps = int(2*α*(1/Δx))\n",
    "    x = np.linspace(-α, α, n_steps)\n",
    "    \n",
    "    # evaluating the arg function in the corresponding domain\n",
    "    func = arg_func1(x, i, j, w, θ)\n",
    "\n",
    "    # computing the gaussian that approximates the probability function\n",
    "    w_mod = np.delete(w[i,:], j)\n",
    "    sd = np.linalg.norm(w_mod)\n",
    "    gauss = norm.pdf(x, loc=0, scale=sd)\n",
    "    \n",
    "    # returns the results of the numerical integration\n",
    "    return simps(func*gauss, x)\n",
    "\n",
    "def est_H1(j, w, θ, η):\n",
    "    \"\"\"\n",
    "    Computes the r.h.s. of Eq. (5) \n",
    "    \"\"\"\n",
    "    H = 0\n",
    "    Nh = θ.size \n",
    "    H = np.sum([est_expect1(i, j, w, θ) for i in range(Nh)], axis=0)\n",
    "    return η[j] + 0.5*H"
   ]
  },
  {
   "cell_type": "code",
   "execution_count": 8,
   "metadata": {},
   "outputs": [],
   "source": [
    "# extracting fields\n",
    "fields = []\n",
    "Nv = w.shape[1]\n",
    "for j in range(Nv):\n",
    "    H = est_H1(j, w, θ, η)\n",
    "    fields.append(H)\n",
    "fields = np.array(fields)"
   ]
  },
  {
   "cell_type": "code",
   "execution_count": 10,
   "metadata": {},
   "outputs": [
    {
     "name": "stdout",
     "output_type": "stream",
     "text": [
      "Mean: 0.015\n",
      "Standard deviation: 0.055\n"
     ]
    },
    {
     "data": {
      "image/png": "[encoded data removed]",
      "text/plain": [
       "<Figure size 432x288 with 1 Axes>"
      ]
     },
     "metadata": {
      "needs_background": "light"
     },
     "output_type": "display_data"
    }
   ],
   "source": [
    "# Calculate the mean and standard deviation of the data\n",
    "mean = np.mean(fields)\n",
    "sd = np.std(fields)\n",
    "\n",
    "# Create the histogram\n",
    "plt.hist(fields, \n",
    "         bins=10, \n",
    "         histtype='stepfilled', \n",
    "         color='lightblue', \n",
    "         edgecolor='steelblue',\n",
    "         linewidth=2,\n",
    "         alpha=0.8)\n",
    "\n",
    "# Add a vertical line to represent the mean\n",
    "plt.axvline(mean, color='r', linestyle='dashed', linewidth=2)\n",
    "\n",
    "# Labels and title of the plot\n",
    "plt.ylabel('Frequency', fontsize=15)\n",
    "plt.xlabel(r'$H^{(1)}$', fontsize=15)\n",
    "plt.title('Histogram of $H^{(1)}$', fontsize=15)\n",
    "\n",
    "# Display the mean and standard deviation\n",
    "print('Mean:', mean.round(3))\n",
    "print('Standard deviation:', sd.round(3))\n",
    "\n",
    "# Show the plot\n",
    "plt.show()"
   ]
  },
  {
   "cell_type": "markdown",
   "metadata": {},
   "source": [
    "## Extracting 2-body couplings\n",
    "\n",
    "Analogously, the expression for the 2-body couplings is given by\n",
    "\n",
    "$$\n",
    "J_{j_1 j_2}^{(2)} = \\frac{1}{4} \\sum_i \\mathbb{E}_{X_i^{(j_1 j_2)}} \\left[ \\ln \\frac{ \\cosh \\left( \\theta_i + w_{i j_1} + w_{i j_2} + X_i^{\\left( j_1 j_2 \\right)} \\right) \\cosh \\left( \\theta_i - ( w_{i j_1} + w_{i j_2} ) + X_i^{\\left( j_1 j_2 \\right)} \\right)}{ \\cosh \\left( \\theta_i + (w_{i j_1} - w_{i j_2}) + X_i^{\\left( j_1 j_2 \\right)} \\right) \\cosh \\left( \\theta_i - ( w_{i j_1} - w_{i j_2} ) + X_i^{\\left( j_1 j_2 \\right)} \\right) } \\right], \\tag{6}\n",
    "$$\n",
    "\n",
    "where\n",
    "$\n",
    "X_i^{\\left( j_1 \\dots j_m \\right)} \\sim \\mathcal{N} \\left(0, \\sum_{\\mu = 3}^{N_v} w_{ij_\\mu}^2 \\right).\n",
    "$"
   ]
  },
  {
   "cell_type": "code",
   "execution_count": 42,
   "metadata": {},
   "outputs": [],
   "source": [
    "# Defining the functions\n",
    "\n",
    "def arg_func2(x, i, j1, j2, w, θ):\n",
    "    \"\"\"\n",
    "    A function to compute the argument of the average in the Eq. (6)\n",
    "    \"\"\"\n",
    "    return np.log(np.cosh(θ[i] + (w[i,j1]+w[i,j2]) + x)*np.cosh(θ[i] - (w[i,j1]+w[i,j2]) + x) \n",
    "                  / np.cosh(θ[i] + (w[i,j1]-w[i,j2]) + x)*np.cosh(θ[i] - (w[i,j1]-w[i,j2]) + x) \n",
    "                 )\n",
    "\n",
    "def est_expect2(i, j1, j2, w, θ, α=15, Δx=0.1):\n",
    "    \"\"\"\n",
    "    For a given index i, it computes the average in the Eq. (6) using the simpson's rule.\n",
    "    \n",
    "    params:\n",
    "    - α: it sets the domain of the numerical integration to [-α, α]\n",
    "    - Δx: the step size of the numerical integration\n",
    "    \"\"\"\n",
    "    \n",
    "    # setting the domain of the numerical integral\n",
    "    n_steps = int(2*α*(1/Δx))\n",
    "    x = np.linspace(-α, α, n_steps)\n",
    "    \n",
    "    # evaluating the arg function in the corresponding domain\n",
    "    func = arg_func2(x, i, j1, j2, w, θ)\n",
    "\n",
    "    # computing the gaussian that approximates the probability function\n",
    "    w_mod = np.delete(w[i,:], [j1, j2])\n",
    "    sd = np.linalg.norm(w_mod)\n",
    "    gauss = norm.pdf(x, loc=0, scale=sd)\n",
    "    \n",
    "    # returns the results of the numerical integration\n",
    "    return simps(func*gauss, x)\n",
    "\n",
    "def est_J2(j1, j2, w, θ):\n",
    "    \"\"\"\n",
    "    Computes the r.h.s. of Eq. (6) \n",
    "    \"\"\"\n",
    "    J = 0\n",
    "    Nh = θ.size \n",
    "    for i in range(Nh):\n",
    "        J += est_expect2(i, j1, j2, w, θ)\n",
    "    return η[j] + 0.5*H"
   ]
  },
  {
   "cell_type": "code",
   "execution_count": 44,
   "metadata": {},
   "outputs": [],
   "source": [
    "# Extracting couplings (2nd order)\n",
    "Nv = w.shape[1]\n",
    "couplings = np.zeros((Nv, Nv))\n",
    "for j1 in range(1, Nv):\n",
    "    for j2 in range(j1):\n",
    "        couplings[j1, j2] = est_J2(j1, j2, w, θ)\n",
    "\n",
    "# This cell runs in ~20s"
   ]
  },
  {
   "cell_type": "code",
   "execution_count": null,
   "metadata": {},
   "outputs": [],
   "source": []
  },
  {
   "cell_type": "markdown",
   "metadata": {},
   "source": [
    "## Reference\n",
    "\n",
    "[1] Decelle, A., Furtlehner, C., Navas Gómez, A. J., & Seoane, B. (2023). Inferring effective couplings with Restricted Boltzmann Machines. arXiv preprint arXiv:2309.02292."
   ]
  }
 ],
 "metadata": {
  "kernelspec": {
   "display_name": "Python 3",
   "language": "python",
   "name": "python3"
  },
  "language_info": {
   "codemirror_mode": {
    "name": "ipython",
    "version": 3
   },
   "file_extension": ".py",
   "mimetype": "text/x-python",
   "name": "python",
   "nbconvert_exporter": "python",
   "pygments_lexer": "ipython3",
   "version": "3.8.5"
  }
 },
 "nbformat": 4,
 "nbformat_minor": 4
}
