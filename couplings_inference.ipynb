{
 "cells": [
  {
   "cell_type": "markdown",
   "metadata": {},
   "source": [
    "# From the RBM to the Generalized Ising Model\n",
    "\n",
    "In this notebook we will present an implementation of the mapping between an Restricted Boltzmann Machines and Generalized Ising model that contains interactions up to an arbitrary number of bodies, which was introduced by in the Ref. [1].\n",
    "\n",
    "\n",
    "## Introduction\n",
    "\n",
    "Let us start with the energy function of a Restricted Boltzmann Machine (RBM):\n",
    "\n",
    "$$\n",
    " \\mathcal{H}(\\boldsymbol{v}, \\boldsymbol{h}) = - \\sum_{i=1}^{N_h} c_i h_i  - \\sum_{j=1}^{N_v} b_j v_j - \\sum_{j=1}^{N_v} \\sum_{i=1}^{N_h}  h_i W_{ij} v_j , \\tag{1}\n",
    "$$\n",
    "\n",
    "with binary variables $v_j, h_i \\in \\{0, 1 \\}$. By applying a change of variables and then marginalizing over the hidden nodes, one can obtain an expression for the energy solely dependent upon the visible nodes $\\sigma_j \\in \\{ -1, 1 \\}$:\n",
    "\n",
    "$$\n",
    "\\begin{align}\n",
    "\\mathcal{H}(\\boldsymbol{\\sigma}) \n",
    "&= - \\sum_j \\left( b_j + \\frac{1}{2} \\sum_i W_{ij} \\right) \\sigma_j - \\sum_i \\ln \\cosh \\left[ \\frac{1}{4} \\sum_j W_{ij} \\sigma_j + \\frac{1}{2} \\left( c_i + \\frac{1}{2} \\sum_j W_{ij} \\right) \\right] \\\\ \n",
    "&= - \\sum_j \\eta_j \\sigma_j - \\sum_i \\ln \\cosh \\left( \\sum_j w_{ij} \\sigma_j + \\theta_i \\right), \\tag{2}\n",
    "\\end{align}\n",
    "$$\n",
    "\n",
    "where the following variables were defined\n",
    "\n",
    "$$\n",
    "\\eta_j \\equiv \\frac{1}{2} \\left( b_j + \\frac{1}{2} \\sum_i W_{ij} \\right), \\ \\theta_i \\equiv \\frac{1}{2} \\left( c_i + \\frac{1}{2} \\sum_j W_{ij} \\right), \\ w_{ij} \\equiv \\frac{1}{4} W_{ij}. \\tag{3}\n",
    "$$\n",
    "\n",
    "It can be we showed that the effective Hamiltonian given in the Eq. $(2)$ can be expanded as a Generalized Ising Model (GIM) Hamiltonian of the form\n",
    " \n",
    "$$ \\begin{align} \n",
    "\\mathcal{H}_{\\mathrm{GIM}}(\\boldsymbol{\\sigma}) \n",
    "&= - \\sum_j H_j \\sigma_j - \\sum_{j_1 > j_2} J^{(2)}_{j_1 j_2} \\sigma_{j_1} \\sigma_{j_2} - \\sum_{j_1 > j_2 > j_3} J_{j_1 j_2 j_3}^{(3)} \\sigma_{j_1} \\sigma_{j_2} \\sigma_{j_3} + \\dots \\nonumber + \\sum_{j_1 > \\cdots > j_k} J^{(n)}_{j_1,\\ldots,j_n}\\sigma_{j_1} \\cdots \\sigma_{j_n} + \\dots,\n",
    "\\tag{4}\n",
    "\\end{align}$$\n",
    " \n",
    "A full detailed derivation of the mapping beetween the RBM parameters $\\eta_j, \\theta_i, w_{ij}$ and the couplings $H_{j_1 \\dots j_n}$ can be found in [1]. "
   ]
  },
  {
   "cell_type": "code",
   "execution_count": 1,
   "metadata": {},
   "outputs": [],
   "source": [
    "#importing libraries\n",
    "import numpy as np\n",
    "import matplotlib.pyplot as plt\n",
    "import h5py\n",
    "\n",
    "# numerical methods\n",
    "from scipy.stats import norm\n",
    "from scipy.integrate import simps"
   ]
  },
  {
   "cell_type": "code",
   "execution_count": 2,
   "metadata": {},
   "outputs": [],
   "source": [
    "# use LaTeX fonts in the plot\n",
    "plt.rc('text', usetex=True)\n",
    "plt.rc('font', family='serif')"
   ]
  },
  {
   "cell_type": "markdown",
   "metadata": {},
   "source": [
    "## Loading the parameters of a saved RBM training\n",
    "\n",
    "First, we need the parameters of an RBM trained with samples from the Ising model. Since this notebook will be exclusively dedicated to the numerical implementation of the mapping between the RBM and the GIM, we will not delve neither into the generation of Ising model samples nor the training of the models, which are described in a general manner in [1].\n",
    "\n",
    "In this context, we already have machines that have been trained with configurations of the the Ising model, which will serve as examples for introducing our methods. Thus, we will use a model that was trained with $10^5$ samples of a 2D disordered Ising model (i.e., a Edwards-Anderson model) with $\\beta = 0.2$ and $L=7$. "
   ]
  },
  {
   "cell_type": "code",
   "execution_count": 3,
   "metadata": {},
   "outputs": [],
   "source": [
    "# file path and epoch\n",
    "file_path = './models/2D_EAmodel_β=0.2_L=7_M=100000_PCD-50_Nh=100_lr=0.1.h5'\n",
    "ep = 500\n",
    "\n",
    "with h5py.File(file_path, 'r') as f:\n",
    "    # initialize variables directly from the HDF5 file\n",
    "    W = f['W' + str(ep)][:,:]  # dim: Nh x Nv\n",
    "    b = f['vbias' + str(ep)][:]  # dim: Nv\n",
    "    c = f['hbias' + str(ep)][:]  # dim: Nh\n",
    "    \n",
    "# change of variables\n",
    "w = 0.25 * W  # dim: Nh x Nv\n",
    "η = 0.5 * b + w.sum(axis=0)  # dim: Nv\n",
    "θ = 0.5 * c + w.sum(axis=1)  # dim: Nh"
   ]
  },
  {
   "cell_type": "markdown",
   "metadata": {},
   "source": [
    "## inferring field couplings"
   ]
  },
  {
   "cell_type": "markdown",
   "metadata": {},
   "source": [
    "The mapping for the external field terms $H_j$ are given by \n",
    "\n",
    "$$\n",
    "H_j = \\eta_j + \\frac{1}{2} \\sum_i \\mathbb{E}_{X_1^{(j)}} \\left[ \\ln \\frac{\\cosh \\left( \\theta_i + w_{ij} + X_i^{\\left( j_1 \\right)} \\right)}{\\cosh \\left( \\theta_i -w_{ij} + X_i^{\\left( j_1 \\right)} \\right)} \\right],  \\tag{5}\n",
    "$$\n",
    "where it is assumed that\n",
    "$\n",
    "X_i^{\\left( j_1 \\dots j_m \\right)} \\sim \\mathcal{N} \\left(0, \\sum_{j \\neq j_1 \\dots j_m} w_{ij}^2 \\right).\n",
    "$\n"
   ]
  },
  {
   "cell_type": "code",
   "execution_count": 4,
   "metadata": {},
   "outputs": [],
   "source": [
    "# functions\n",
    "\n",
    "def arg_func1(x, i, j, w, θ):\n",
    "    \"\"\"\n",
    "    It computes the argument of the average in the Eq. (5)\n",
    "    \"\"\"\n",
    "    return np.log(np.cosh(θ[i] + w[i,j] + x ) \n",
    "                  / np.cosh(θ[i] - w[i,j] + x) \n",
    "                 )\n",
    "\n",
    "def est_expect1(i, j, w, θ, α=15, Δx=0.1):\n",
    "    \"\"\"\n",
    "    For a given index i, it computes the average in the Eq. (5) using the simpson's rule.\n",
    "    \n",
    "    params:\n",
    "    - α: it sets the domain of the numerical integration to [-α, α]\n",
    "    - Δx: the step size of the numerical integration\n",
    "    \"\"\"\n",
    "    \n",
    "    # setting the domain of the numerical integral\n",
    "    n_steps = int(2*α*(1/Δx))\n",
    "    x = np.linspace(-α, α, n_steps)\n",
    "    \n",
    "    # computing the sd of the probability function\n",
    "    sd = np.linalg.norm(np.delete(w[i,:], j))\n",
    "        \n",
    "    # returns the results of the numerical integration\n",
    "    return simps(arg_func1(x, i, j, w, θ)\n",
    "                 *norm.pdf(x, loc=0, scale=sd), x)\n",
    "\n",
    "def est_H1(j, w, θ, η):\n",
    "    \"\"\"\n",
    "    Given the parameters of an RBM, it computes the r.h.s. of Eq. (5) \n",
    "    \"\"\"\n",
    "    Nh = θ.size \n",
    "    H = np.sum([est_expect1(i, j, w, θ) for i in range(Nh)], axis=0)\n",
    "    return η[j] + 0.5*H"
   ]
  },
  {
   "cell_type": "code",
   "execution_count": 7,
   "metadata": {},
   "outputs": [],
   "source": [
    "# extracting fields\n",
    "fields = []\n",
    "Nv = w.shape[1]\n",
    "for j in range(Nv):\n",
    "    H = est_H1(j, w, θ, η)\n",
    "    fields.append(H)\n",
    "fields = np.array(fields)"
   ]
  },
  {
   "cell_type": "code",
   "execution_count": 8,
   "metadata": {},
   "outputs": [
    {
     "data": {
      "image/png": "[encoded data removed]",
      "text/plain": [
       "<Figure size 500x400 with 1 Axes>"
      ]
     },
     "metadata": {
      "needs_background": "light"
     },
     "output_type": "display_data"
    }
   ],
   "source": [
    "# calculate the mean and standard deviation of the data\n",
    "mean = np.mean(fields)\n",
    "rmse = np.sqrt((fields**2).mean())\n",
    "\n",
    "# create the histogram\n",
    "plt.figure(figsize=(5,4), dpi=100)\n",
    "plt.hist(fields,\n",
    "         log=True,\n",
    "         bins=10, \n",
    "         histtype='stepfilled', \n",
    "         color='lightblue', \n",
    "         edgecolor='steelblue',\n",
    "         linewidth=2,\n",
    "         alpha=0.8)\n",
    "\n",
    "# setting xlim\n",
    "plt.xlim([-0.5, 0.5])\n",
    "\n",
    "# add a vertical line to represent the mean\n",
    "plt.axvline(mean, color='r', linestyle='dashed', linewidth=2)\n",
    "\n",
    "# lsetting labels and ticks\n",
    "plt.ylabel('Frequency', fontsize=15)\n",
    "plt.xlabel(r'$H^{(1)}$', fontsize=15)\n",
    "plt.xticks(fontsize=12)\n",
    "plt.yticks(fontsize=12)\n",
    "\n",
    "# display the mean and RSME in a text box within the graph\n",
    "textstr = f'Mean: {mean:.3f}\\nRMSE: {rmse:.3f}'\n",
    "plt.text(0.05, 0.8, \n",
    "         textstr, \n",
    "         transform=plt.gca().transAxes, \n",
    "         fontsize=12, \n",
    "         bbox=dict(boxstyle='round', edgecolor='k', facecolor='wheat', alpha=0.5))\n",
    "\n",
    "\n",
    "# Show the plot\n",
    "plt.show()"
   ]
  },
  {
   "cell_type": "markdown",
   "metadata": {},
   "source": [
    "## Inferring 2-body couplings\n",
    "\n",
    "Analogously, the expression for the 2-body couplings is given by\n",
    "\n",
    "$$\n",
    "J_{j_1 j_2}^{(2)} = \\frac{1}{4} \\sum_i \\mathbb{E}_{X_i^{(j_1 j_2)}} \\left[ \\ln \\frac{ \\cosh \\left( \\theta_i + w_{i j_1} + w_{i j_2} + X_i^{\\left( j_1 j_2 \\right)} \\right) \\cosh \\left( \\theta_i - ( w_{i j_1} + w_{i j_2} ) + X_i^{\\left( j_1 j_2 \\right)} \\right)}{ \\cosh \\left( \\theta_i + (w_{i j_1} - w_{i j_2}) + X_i^{\\left( j_1 j_2 \\right)} \\right) \\cosh \\left( \\theta_i - ( w_{i j_1} - w_{i j_2} ) + X_i^{\\left( j_1 j_2 \\right)} \\right) } \\right], \\tag{6}\n",
    "$$\n",
    "\n",
    "where\n",
    "$\n",
    "X_i^{\\left( j_1 j_2 \\right)} \\sim \\mathcal{N} \\left(0, \\sum_{\\mu = 3}^{N_v} w_{ij_\\mu}^2 \\right).\n",
    "$"
   ]
  },
  {
   "cell_type": "code",
   "execution_count": 9,
   "metadata": {},
   "outputs": [],
   "source": [
    "# functions\n",
    "\n",
    "def arg_func2(x, i, j1, j2, w, θ):\n",
    "    \"\"\"\n",
    "    A function to compute the argument of the average in the Eq. (6)\n",
    "    \"\"\"    \n",
    "    return np.log((np.cosh(θ[i] + (w[i,j1]+w[i,j2]) + x)*np.cosh(θ[i] - (w[i,j1]+w[i,j2]) + x)) \n",
    "                  / (np.cosh(θ[i] + (w[i,j1]-w[i,j2]) + x)*np.cosh(θ[i] - (w[i,j1]-w[i,j2]) + x))\n",
    "                 )\n",
    "\n",
    "def est_expect2(i, j1, j2, w, θ, α=15, Δx=0.1):\n",
    "    \"\"\"\n",
    "    For a given index i, it computes the average in the Eq. (6) using the simpson's rule.\n",
    "    \n",
    "    params:\n",
    "    - α: it sets the domain of the numerical integration to [-α, α]\n",
    "    - Δx: the step size of the numerical integration\n",
    "    \"\"\"\n",
    "    \n",
    "    # setting the domain of the numerical integral\n",
    "    n_steps = int(2*α*(1/Δx))\n",
    "    x = np.linspace(-α, α, n_steps)\n",
    "\n",
    "    # computing the sd of the probability function\n",
    "    sd = np.linalg.norm(np.delete(w[i,:], \n",
    "                                  [j1, j2]))\n",
    "    \n",
    "    # returns the results of the numerical integration\n",
    "    return simps(arg_func2(x, i, j1, j2, w, θ)\n",
    "                 * norm.pdf(x, loc=0, scale=sd), x)\n",
    "\n",
    "def est_J2(j1, j2, w, θ):\n",
    "    \"\"\"\n",
    "    Given the parameters of an RBM, it computes the r.h.s. of Eq. (6) \n",
    "    \"\"\"\n",
    "    Nh = θ.size \n",
    "    return 0.25*np.sum([est_expect2(i, j1, j2, w, θ) for i in range(Nh)], axis=0)"
   ]
  },
  {
   "cell_type": "code",
   "execution_count": 10,
   "metadata": {},
   "outputs": [],
   "source": [
    "# extracting couplings (2nd order)\n",
    "Nv = w.shape[1]\n",
    "couplings = np.zeros((Nv, Nv))\n",
    "# print(couplings)\n",
    "for j1 in range(1, Nv):\n",
    "    for j2 in range(j1):\n",
    "        couplings[j1, j2] = est_J2(j1, j2, w, θ)\n",
    "\n",
    "# this cell runs in ~20s"
   ]
  },
  {
   "cell_type": "code",
   "execution_count": 11,
   "metadata": {},
   "outputs": [],
   "source": [
    "# retrieving coupling information from the training data file\n",
    "file_name = 'Ising_samples/2D_EAmodel_β=0.2_L=7_M=100000.h5'\n",
    "with h5py.File(file_name, 'r') as f:\n",
    "    data_couples = f['couples'][:]\n",
    "    data_couplings = f['couplings'][:]\n",
    "\n",
    "# Creating data matrix\n",
    "L=7\n",
    "N = L**2\n",
    "β=0.2\n",
    "data_couplings_matrix = np.zeros((N, N))\n",
    "    \n",
    "for sites, J in zip(data_couples, data_couplings):\n",
    "    j1, j2 = np.sort(sites)\n",
    "    data_couplings_matrix[j1, j2] = β*J"
   ]
  },
  {
   "cell_type": "code",
   "execution_count": 12,
   "metadata": {},
   "outputs": [
    {
     "data": {
      "image/png": "[encoded data removed]",
      "text/plain": [
       "<Figure size 1000x400 with 3 Axes>"
      ]
     },
     "metadata": {
      "needs_background": "light"
     },
     "output_type": "display_data"
    }
   ],
   "source": [
    "fig, axs = plt.subplots(1, 2, figsize=(10, 4), dpi=100)\n",
    "ax0, ax1 = axs.flat\n",
    "\n",
    "# histogram\n",
    "subdiag_indexes = np.tril_indices(couplings.shape[0], -1)\n",
    "ax0.hist(couplings[subdiag_indexes].flatten(),\n",
    "            bins=50,\n",
    "            log=True,\n",
    "            histtype='stepfilled',\n",
    "            color='lightblue',\n",
    "            edgecolor='steelblue',\n",
    "            linewidth=2,\n",
    "            alpha=0.8\n",
    "            )\n",
    "\n",
    "# setting titles, ticks and labels\n",
    "ax0.set_xlabel(r'$J^{(2)}$', fontsize=15)  # Set x-axis label\n",
    "ax0.set_ylabel('Frequency', fontsize=15)  # Set y-axis label\n",
    "ax0.tick_params(axis='both', labelsize=12)\n",
    "\n",
    "# computing the error\n",
    "ΔJ_2D = np.sqrt(np.sum((couplings- data_couplings_matrix.T)**2)\n",
    "                / np.sum(data_couplings.T**2))\n",
    "\n",
    "# matrices\n",
    "c2plot = couplings + data_couplings_matrix\n",
    "plot = axs[1].imshow(c2plot,\n",
    "                     cmap='RdBu',\n",
    "                     vmin=0.3,\n",
    "                     vmax=-0.3,\n",
    "                     )\n",
    "\n",
    "# setting titles, ticks and labels\n",
    "ax1.set_title('Coupling Matrix ' \n",
    "              + r'($\\Delta_{J^{(2)}}$'\n",
    "              + fr'={np.round(ΔJ_2D, 2)})', \n",
    "              fontsize=15)\n",
    "\n",
    "ax1.set_xticks([])  # Hide x-axis ticks\n",
    "ax1.set_yticks([])  # Hide y-axis ticks\n",
    "ax1.set_xticklabels([])  # Remove x-axis tick labels\n",
    "ax1.set_yticklabels([])  # Remove y-axis tick labels\n",
    "\n",
    "# adding the text boxes\n",
    "ax1.text(19,5, \"training data\", \n",
    "         fontsize=15,\n",
    "         bbox=dict(facecolor='wheat', edgecolor='k', boxstyle='round,pad=0.5'))\n",
    "ax1.text(15,45, \n",
    "         'RBM', \n",
    "         fontsize=15,\n",
    "         bbox=dict(facecolor='wheat', edgecolor='k', boxstyle='round,pad=0.5'))\n",
    "\n",
    "# adding a colorbar\n",
    "cbar = plt.colorbar(plot, \n",
    "                    ax=axs.ravel().tolist(), \n",
    "                    pad=0.025, \n",
    "                    shrink=0.8,\n",
    "                   )\n",
    "cbar.set_ticks([-0.3,-0.2,-0.1,0,0.1,0.2,0.3])\n",
    "cbar.set_ticklabels(['-0.3', r'$-\\beta=-0.2$','-0.1','0','0.1',r'$\\beta=0.2$','0.3'])\n",
    "cbar.ax.tick_params(labelsize=12)\n",
    "\n",
    "#show the plot\n",
    "plt.show()"
   ]
  },
  {
   "cell_type": "markdown",
   "metadata": {},
   "source": [
    "### Comparison with previous methods\n",
    "\n",
    "Rearranging the Eq. (6) in terms of our old parameters $b_j, \\ c_i,$ and $W_{ij}$ give us\n",
    "\n",
    "$$\n",
    "\\begin{align}\n",
    "    &J^{(2)}_{j_1 j_2} \n",
    "    = \\frac{1}{4} \\sum_i \\ln \\frac{\\left( 1 + e^{c_i + W_{i j_1} + W_{i j_2}} \\right) \\left(1 + e^{c_i} \\right)}{\\left(1 + e^{c_i + W_{i j_1}} \\right) \\left(1 + e^{c_i + W_{i j_2}} \\right)} \\nonumber \\\\\n",
    "    & \\quad \n",
    "    + \\frac{1}{4} \n",
    "    \\sum_i \\mathbb{E}_{Y_i^{(j_1 j_2)}}  \\ln\n",
    "    \\frac{ \n",
    "    { \n",
    "    \\displaystyle \\left[ 1 + \\tanh \\frac{1}{2}\\left( W_{ij_1} + W_{ij_2} + c_i \\right) \\tanh \\frac{1}{4} \\left( Y_i^{(j_1 j_2)} + \\sum_{j \\neq j_1, j_2} W_{ij} \\right) \\right] }{ \n",
    "    \\displaystyle \\times \\left[ 1 + \\tanh \\left( \\frac{c_i}{2} \\right) \\tanh \\frac{1}{4} \\left( Y_i^{(j_1 j_2)}+ \\sum_{j \\neq j_1, j_2} W_{ij} \\right) \\right] }}\n",
    "    {{ \n",
    "    \\displaystyle \\left [ 1 + \\tanh \\frac{1}{2} \\left( W_{ij_1} + c_i \\right) \\tanh \\frac{1}{4} \\left( Y_i^{(j_1 j_2)} + \\sum_{j \\neq j_1, j_2} W_{ij} \\right) \\right ]} \n",
    "    {\\displaystyle \\times \\left[ 1 + \\tanh \\frac{1}{2} \\left( W_{ij_2} + c_i \\right) \\tanh \\frac{1}{4} \\left( Y_i^{(j_1 j_2)} + \\sum_{j \\neq j_1, j_2} W_{ij} \\right) \\right]}} ,\n",
    "   \\tag{7}     \n",
    "\\end{align} \n",
    "$$\n",
    "\n",
    "where \n",
    "$\n",
    "Y_i^{\\left( j_1 j_2 \\right)} \\sim \\mathcal{N} \\left(0, \\sum_{\\mu = 3}^{N_v} W_{ij_\\mu}^2 \\right).\n",
    "$\n",
    "\n",
    "Note that thte first term of the r.h.s. of the Eq. (7) resembles the formula given by Cossu *et al.* [2] for the inference of 2 body couplings out of an RBM trained with Ising model samples."
   ]
  },
  {
   "cell_type": "code",
   "execution_count": 34,
   "metadata": {},
   "outputs": [],
   "source": [
    "# Functions\n",
    "\n",
    "# formula for the Cossu et al.'s [2] method\n",
    "def est_J2_cossu(j1, j2, W, c):\n",
    "    \"\"\"\n",
    "    Given the parameters of an RBM, it computes first part of the r.h.s. of Eq. (7).\n",
    "    \"\"\"\n",
    "    Nh = c.size\n",
    "    return 0.25* np.sum([np.log( ( (1 + np.exp(c[i] + W[i,j1] + W[i,j2])) \n",
    "                                  * (1 + np.exp(c[i])) ) \n",
    "                                /( (1 + np.exp(c[i] + W[i,j1])) \n",
    "                                  * (1 + np.exp(c[i] + W[i,j2])) )\n",
    "                               )\n",
    "                         # we compute the above expression for every i\n",
    "                         for i in range(Nh)], axis=0) # and then we sum up all\n",
    "\n",
    "# formulas for the second part of the r.h.s. of the Eq. (7).\n",
    "def arg_func_Δ(y, i, j1, j2, W, c):\n",
    "    \"\"\"\n",
    "    A function to compute the argument of the average in the second part of the r.h.s. of the Eq. (7)\n",
    "    \"\"\"   \n",
    "    W_sum = np.delete(W[i,:], [j1, j2]).sum()\n",
    "    return np.log( ( (1 + np.tanh((W[i,j1] + W[i,j2] + c[i])*0.5) * np.tanh((y + W_sum)*0.25)) \n",
    "                    * (1 + np.tanh(c[i]*0.5) * np.tanh((y + W_sum)*0.25)) \n",
    "                   )\n",
    "                  / ( (1 + np.tanh((W[i,j1] + c[i])*0.5) * np.tanh((y + W_sum)*0.25)) \n",
    "                     * (1 + np.tanh((W[i,j2] + c[i])*0.5) * np.tanh((y + W_sum)*0.25)) \n",
    "                    )\n",
    "                 )\n",
    "\n",
    "def est_expect_Δ(i, j1, j2, W, c, alpha=100, n_int=200):\n",
    "    y = np.linspace(-alpha, alpha, n_int)\n",
    "    error_func = arg_func_Δ(y, i, j1, j2, W, c)\n",
    "    \n",
    "    W_mod = np.delete(W[i,:], [j1, j2])\n",
    "    sd = np.linalg.norm(W_mod)\n",
    "    gauss = norm.pdf(y, loc=0, scale=sd)    \n",
    "    return simps(error_func*gauss, y)\n",
    "\n",
    "def est_J2_Δ(j1, j2, W, c):\n",
    "    H_error = 0\n",
    "    n = c.shape[0]\n",
    "    for i in range(n):\n",
    "        H_error +=  est_expect_Δ(i, j1, j2, W, c)\n",
    "    return 0.25*H_error"
   ]
  },
  {
   "cell_type": "code",
   "execution_count": 43,
   "metadata": {},
   "outputs": [],
   "source": [
    "# Extracting couplings (2nd order)\n",
    "Nv = w.shape[1]\n",
    "couplings_cossu = np.zeros((Nv, Nv))\n",
    "couplings_Δ = np.zeros((Nv, Nv))\n",
    "#print(couplings)\n",
    "for j1 in range(1, Nv):\n",
    "    for j2 in range(j1):\n",
    "        couplings_cossu[j1, j2] = est_J2_cossu(j1, j2, W, c)\n",
    "        couplings_Δ[j1, j2] = est_J2_Δ(j1, j2, W, c)\n",
    "\n",
    "# This cell runs in ~20s"
   ]
  },
  {
   "cell_type": "code",
   "execution_count": 44,
   "metadata": {},
   "outputs": [
    {
     "data": {
      "image/png": "[encoded data removed]",
      "text/plain": [
       "<Figure size 432x288 with 1 Axes>"
      ]
     },
     "metadata": {
      "needs_background": "light"
     },
     "output_type": "display_data"
    }
   ],
   "source": [
    "plt.hist(couplings_cossu.flatten(), bins=50, log=True)\n",
    "plt.hist((couplings_cossu\n",
    "          + couplings_Δ).flatten(), bins = 50, log=True)\n",
    "plt.show()"
   ]
  },
  {
   "cell_type": "markdown",
   "metadata": {},
   "source": [
    "## Reference\n",
    "\n",
    "[1] Decelle, A., Furtlehner, C., Navas Gómez, A. J., & Seoane, B. (2023). Inferring effective couplings with Restricted Boltzmann Machines. arXiv preprint arXiv:2309.02292."
   ]
  }
 ],
 "metadata": {
  "kernelspec": {
   "display_name": "Python 3",
   "language": "python",
   "name": "python3"
  },
  "language_info": {
   "codemirror_mode": {
    "name": "ipython",
    "version": 3
   },
   "file_extension": ".py",
   "mimetype": "text/x-python",
   "name": "python",
   "nbconvert_exporter": "python",
   "pygments_lexer": "ipython3",
   "version": "3.8.5"
  }
 },
 "nbformat": 4,
 "nbformat_minor": 4
}
